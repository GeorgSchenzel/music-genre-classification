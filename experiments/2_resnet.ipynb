{
 "cells": [
  {
   "cell_type": "code",
   "execution_count": 1,
   "metadata": {},
   "outputs": [],
   "source": [
    "%reload_ext autoreload\n",
    "%autoreload 2\n",
    "\n",
    "from pathlib import Path\n",
    "from mgclass import analysis, MusicGenreDataset, networks\n",
    "from mgclass.utils import *\n",
    "from mgclass.training import TrainingRun"
   ]
  },
  {
   "cell_type": "code",
   "execution_count": 2,
   "metadata": {
    "pycharm": {
     "name": "#%%\n"
    }
   },
   "outputs": [],
   "source": [
    "dry_run = False\n",
    "epochs = 10\n",
    "repeat_count = 100"
   ]
  },
  {
   "cell_type": "code",
   "execution_count": 3,
   "metadata": {
    "pycharm": {
     "name": "#%%\n"
    }
   },
   "outputs": [
    {
     "name": "stdout",
     "output_type": "stream",
     "text": [
      "Using genre from playlist source\n",
      "Dups for 0-6:   1\n",
      "Dups for 0-7:   1\n",
      "Dups for 1-4:  10\n",
      "Dups for 2-7:   3\n",
      "Dups for 5-7:   1\n",
      "Clamping dataset to 160 songs per class. Removing 279 songs.\n",
      "Preprocessing complete\n"
     ]
    },
    {
     "data": {
      "text/plain": "Creating dataset:   0%|          | 0/1280 [00:00<?, ?it/s]",
      "application/vnd.jupyter.widget-view+json": {
       "version_major": 2,
       "version_minor": 0,
       "model_id": "013566bd681f42cfb06e7e843dd9be74"
      }
     },
     "metadata": {},
     "output_type": "display_data"
    },
    {
     "name": "stdout",
     "output_type": "stream",
     "text": [
      "Dataset creation finished in: 109.9566 seconds\n"
     ]
    },
    {
     "ename": "KeyboardInterrupt",
     "evalue": "",
     "output_type": "error",
     "traceback": [
      "\u001B[0;31m---------------------------------------------------------------------------\u001B[0m",
      "\u001B[0;31mKeyboardInterrupt\u001B[0m                         Traceback (most recent call last)",
      "Cell \u001B[0;32mIn[3], line 1\u001B[0m\n\u001B[0;32m----> 1\u001B[0m dataset \u001B[38;5;241m=\u001B[39m \u001B[43mMusicGenreDataset\u001B[49m\u001B[43m(\u001B[49m\n\u001B[1;32m      2\u001B[0m \u001B[43m        \u001B[49m\u001B[43mdata_dir\u001B[49m\u001B[38;5;241;43m=\u001B[39;49m\u001B[43mPath\u001B[49m\u001B[43m(\u001B[49m\u001B[38;5;124;43m\"\u001B[39;49m\u001B[38;5;124;43m/home/georg/Music/ADL/\u001B[39;49m\u001B[38;5;124;43m\"\u001B[39;49m\u001B[43m)\u001B[49m\u001B[43m,\u001B[49m\n\u001B[1;32m      3\u001B[0m \u001B[43m        \u001B[49m\u001B[43mpreprocess\u001B[49m\u001B[38;5;241;43m=\u001B[39;49m\u001B[43mcreate_spectrogram\u001B[49m\u001B[43m(\u001B[49m\u001B[43mn_mels\u001B[49m\u001B[38;5;241;43m=\u001B[39;49m\u001B[38;5;241;43m128\u001B[39;49m\u001B[43m,\u001B[49m\u001B[43m \u001B[49m\u001B[43mwin_length\u001B[49m\u001B[38;5;241;43m=\u001B[39;49m\u001B[38;5;241;43m1024\u001B[39;49m\u001B[43m)\u001B[49m\u001B[43m,\u001B[49m\n\u001B[1;32m      4\u001B[0m \u001B[43m        \u001B[49m\u001B[43mfile_transform\u001B[49m\u001B[38;5;241;43m=\u001B[39;49m\u001B[43mmp3_to_wav_location\u001B[49m\u001B[43m,\u001B[49m\n\u001B[1;32m      5\u001B[0m \u001B[43m        \u001B[49m\u001B[43mplaylist_to_genre\u001B[49m\u001B[38;5;241;43m=\u001B[39;49m\u001B[43msample_playlist_to_genre\u001B[49m\u001B[43m,\u001B[49m\n\u001B[1;32m      6\u001B[0m \u001B[43m        \u001B[49m\u001B[43mtransform\u001B[49m\u001B[38;5;241;43m=\u001B[39;49m\u001B[43mcreate_crop\u001B[49m\u001B[43m(\u001B[49m\u001B[43m(\u001B[49m\u001B[38;5;241;43m128\u001B[39;49m\u001B[43m,\u001B[49m\u001B[43m \u001B[49m\u001B[38;5;241;43m128\u001B[39;49m\u001B[43m)\u001B[49m\u001B[43m)\u001B[49m\u001B[43m,\u001B[49m\n\u001B[1;32m      7\u001B[0m \u001B[43m        \u001B[49m\u001B[43mdry_run\u001B[49m\u001B[43m \u001B[49m\u001B[38;5;241;43m=\u001B[39;49m\u001B[43m \u001B[49m\u001B[43mdry_run\u001B[49m\u001B[43m,\u001B[49m\n\u001B[1;32m      8\u001B[0m \u001B[43m        \u001B[49m\u001B[38;5;66;43;03m#max_frames=16000*60*2\u001B[39;49;00m\n\u001B[1;32m      9\u001B[0m \u001B[43m)\u001B[49m\n\u001B[1;32m     11\u001B[0m analysis\u001B[38;5;241m.\u001B[39msummarize_dataset(dataset)\n",
      "File \u001B[0;32m~/git/music-genre-classification/mgclass/dataset.py:60\u001B[0m, in \u001B[0;36mMusicGenreDataset.__init__\u001B[0;34m(self, data_dir, preprocess, transform, target_transform, file_transform, num_classes, dry_run, playlist_to_genre, max_frames, even_classes)\u001B[0m\n\u001B[1;32m     58\u001B[0m     \u001B[38;5;28mself\u001B[39m\u001B[38;5;241m.\u001B[39mgenres \u001B[38;5;241m=\u001B[39m \u001B[38;5;28msorted\u001B[39m(\u001B[38;5;28mset\u001B[39m(playlist_to_genre\u001B[38;5;241m.\u001B[39mvalues()))\n\u001B[1;32m     59\u001B[0m     \u001B[38;5;28mself\u001B[39m\u001B[38;5;241m.\u001B[39mnum_classes \u001B[38;5;241m=\u001B[39m \u001B[38;5;28mlen\u001B[39m(\u001B[38;5;28mself\u001B[39m\u001B[38;5;241m.\u001B[39mgenres)\n\u001B[0;32m---> 60\u001B[0m     \u001B[38;5;28mself\u001B[39m\u001B[38;5;241m.\u001B[39mdata, \u001B[38;5;28mself\u001B[39m\u001B[38;5;241m.\u001B[39mlabels \u001B[38;5;241m=\u001B[39m \u001B[38;5;28;43mself\u001B[39;49m\u001B[38;5;241;43m.\u001B[39;49m\u001B[43mcreate_dataset_from_playlist_genre\u001B[49m\u001B[43m(\u001B[49m\u001B[43mplaylist_to_genre\u001B[49m\u001B[43m)\u001B[49m\n\u001B[1;32m     62\u001B[0m \u001B[38;5;28;01melse\u001B[39;00m:\n\u001B[1;32m     63\u001B[0m     \u001B[38;5;28mprint\u001B[39m(\u001B[38;5;124mf\u001B[39m\u001B[38;5;124m\"\u001B[39m\u001B[38;5;124mUsing most \u001B[39m\u001B[38;5;132;01m{\u001B[39;00mnum_classes\u001B[38;5;132;01m}\u001B[39;00m\u001B[38;5;124m occurring genres from spotify api\u001B[39m\u001B[38;5;124m\"\u001B[39m)\n",
      "File \u001B[0;32m~/git/music-genre-classification/mgclass/dataset.py:140\u001B[0m, in \u001B[0;36mMusicGenreDataset.create_dataset_from_playlist_genre\u001B[0;34m(self, playlist_to_genre)\u001B[0m\n\u001B[1;32m    136\u001B[0m all_files, labels \u001B[38;5;241m=\u001B[39m \u001B[38;5;28mself\u001B[39m\u001B[38;5;241m.\u001B[39mflatten_file_array(files_per_class)\n\u001B[1;32m    138\u001B[0m \u001B[38;5;28mprint\u001B[39m(\u001B[38;5;124mf\u001B[39m\u001B[38;5;124m\"\u001B[39m\u001B[38;5;124mPreprocessing complete\u001B[39m\u001B[38;5;124m\"\u001B[39m)\n\u001B[0;32m--> 140\u001B[0m data \u001B[38;5;241m=\u001B[39m \u001B[38;5;28;43mself\u001B[39;49m\u001B[38;5;241;43m.\u001B[39;49m\u001B[43mfiles_to_data\u001B[49m\u001B[43m(\u001B[49m\u001B[43mall_files\u001B[49m\u001B[43m)\u001B[49m\n\u001B[1;32m    142\u001B[0m \u001B[38;5;28;01mreturn\u001B[39;00m data, labels\n",
      "File \u001B[0;32m~/git/music-genre-classification/mgclass/dataset.py:199\u001B[0m, in \u001B[0;36mMusicGenreDataset.files_to_data\u001B[0;34m(self, files)\u001B[0m\n\u001B[1;32m    196\u001B[0m     stats\u001B[38;5;241m.\u001B[39mupdate(d)\n\u001B[1;32m    198\u001B[0m \u001B[38;5;28;01mfor\u001B[39;00m i, d \u001B[38;5;129;01min\u001B[39;00m \u001B[38;5;28menumerate\u001B[39m(data):\n\u001B[0;32m--> 199\u001B[0m     data[i] \u001B[38;5;241m=\u001B[39m (d \u001B[38;5;241m-\u001B[39m stats\u001B[38;5;241m.\u001B[39mmean) \u001B[38;5;241m/\u001B[39m stats\u001B[38;5;241m.\u001B[39mstd\n\u001B[1;32m    201\u001B[0m \u001B[38;5;28;01mreturn\u001B[39;00m data\n",
      "\u001B[0;31mKeyboardInterrupt\u001B[0m: "
     ]
    }
   ],
   "source": [
    "dataset = MusicGenreDataset(\n",
    "        data_dir=Path(\"/home/georg/Music/ADL/\"),\n",
    "        preprocess=create_spectrogram(n_mels=128, win_length=1024),\n",
    "        file_transform=mp3_to_wav_location,\n",
    "        playlist_to_genre=sample_playlist_to_genre,\n",
    "        transform=create_crop((128, 128)),\n",
    "        dry_run = dry_run,\n",
    "        #max_frames=16000*60*2\n",
    ")\n",
    "\n",
    "analysis.summarize_dataset(dataset)"
   ]
  },
  {
   "cell_type": "code",
   "execution_count": null,
   "metadata": {
    "pycharm": {
     "name": "#%%\n"
    }
   },
   "outputs": [],
   "source": [
    "model = networks.ResNet(dataset.num_classes)\n",
    "run = TrainingRun(dataset, model, batch_size=64, epochs=epochs, dry_run=dry_run, repeat_count=repeat_count)\n",
    "run.start()\n",
    "run.plot()"
   ]
  },
  {
   "cell_type": "code",
   "execution_count": null,
   "outputs": [],
   "source": [],
   "metadata": {
    "collapsed": false,
    "pycharm": {
     "name": "#%%\n"
    }
   }
  }
 ],
 "metadata": {
  "kernelspec": {
   "display_name": "Python 3 (ipykernel)",
   "language": "python",
   "name": "python3"
  },
  "language_info": {
   "codemirror_mode": {
    "name": "ipython",
    "version": 3
   },
   "file_extension": ".py",
   "mimetype": "text/x-python",
   "name": "python",
   "nbconvert_exporter": "python",
   "pygments_lexer": "ipython3",
   "version": "3.10.8"
  }
 },
 "nbformat": 4,
 "nbformat_minor": 1
}