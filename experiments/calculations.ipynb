{
 "cells": [
  {
   "cell_type": "code",
   "execution_count": 4,
   "metadata": {
    "collapsed": true
   },
   "outputs": [
    {
     "name": "stdout",
     "output_type": "stream",
     "text": [
      "A win_size of  512 covers   32ms, 128 bins cover 1.056 seconds\n",
      "A win_size of 1024 covers   64ms, 128 bins cover 2.112 seconds\n",
      "A win_size of 2048 covers  128ms, 128 bins cover 4.224 seconds\n"
     ]
    }
   ],
   "source": [
    "overlap = 0.75\n",
    "sample_rate = 16000\n",
    "bins = 128\n",
    "\n",
    "for win_size in [512, 1024, 2048]:\n",
    "    bin_coverage = win_size / sample_rate\n",
    "    total_coverage = win_size * (1 + bins * (1 - overlap)) / sample_rate\n",
    "\n",
    "    print(f\"A win_size of {win_size:4d} covers {int(bin_coverage * 1000):4d}ms, {bins} bins cover {total_coverage:1.3f} seconds\")"
   ]
  }
 ],
 "metadata": {
  "kernelspec": {
   "display_name": "Python 3",
   "language": "python",
   "name": "python3"
  },
  "language_info": {
   "codemirror_mode": {
    "name": "ipython",
    "version": 2
   },
   "file_extension": ".py",
   "mimetype": "text/x-python",
   "name": "python",
   "nbconvert_exporter": "python",
   "pygments_lexer": "ipython2",
   "version": "2.7.6"
  }
 },
 "nbformat": 4,
 "nbformat_minor": 0
}