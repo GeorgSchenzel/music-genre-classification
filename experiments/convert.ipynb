{
 "cells": [
  {
   "cell_type": "markdown",
   "source": [
    "WARNING: running this in a notebook led to my pc freezing until the processing was finished"
   ],
   "metadata": {
    "collapsed": false
   }
  },
  {
   "cell_type": "code",
   "execution_count": 1,
   "metadata": {
    "collapsed": true,
    "pycharm": {
     "name": "#%%\n"
    }
   },
   "outputs": [
    {
     "name": "stderr",
     "output_type": "stream",
     "text": [
      "Converting to .wav: 100%|██████████| 2080/2080 [01:23<00:00, 24.83it/s]  \n"
     ]
    }
   ],
   "source": [
    "from pathlib import Path\n",
    "from mgclass.raw_data import convert_all\n",
    "\n",
    "convert_all(Path(\"/home/georg/Music/ADL/\"))"
   ]
  },
  {
   "cell_type": "code",
   "execution_count": null,
   "outputs": [],
   "source": [],
   "metadata": {
    "collapsed": false,
    "pycharm": {
     "name": "#%%\n"
    }
   }
  }
 ],
 "metadata": {
  "kernelspec": {
   "display_name": "Python 3",
   "language": "python",
   "name": "python3"
  },
  "language_info": {
   "codemirror_mode": {
    "name": "ipython",
    "version": 2
   },
   "file_extension": ".py",
   "mimetype": "text/x-python",
   "name": "python",
   "nbconvert_exporter": "python",
   "pygments_lexer": "ipython2",
   "version": "2.7.6"
  }
 },
 "nbformat": 4,
 "nbformat_minor": 0
}