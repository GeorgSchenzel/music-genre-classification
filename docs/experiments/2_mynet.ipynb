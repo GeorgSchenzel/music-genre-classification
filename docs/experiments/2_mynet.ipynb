{
 "cells": [
  {
   "cell_type": "code",
   "execution_count": 1,
   "metadata": {},
   "outputs": [],
   "source": [
    "%reload_ext autoreload\n",
    "%autoreload 2\n",
    "\n",
    "from pathlib import Path\n",
    "from mgclass import analysis, MusicGenreDataset, networks\n",
    "from mgclass.utils import *\n",
    "from mgclass.training import TrainingRun"
   ]
  },
  {
   "cell_type": "code",
   "execution_count": 2,
   "metadata": {
    "pycharm": {
     "name": "#%%\n"
    }
   },
   "outputs": [],
   "source": [
    "dry_run = False\n",
    "epochs = 10\n",
    "repeat_count = 100"
   ]
  },
  {
   "cell_type": "code",
   "execution_count": 3,
   "metadata": {
    "pycharm": {
     "name": "#%%\n"
    }
   },
   "outputs": [
    {
     "name": "stdout",
     "output_type": "stream",
     "text": [
      "Using genre from playlist source\n",
      "Dups for 0-6:   1\n",
      "Dups for 0-7:   1\n",
      "Dups for 1-4:  10\n",
      "Dups for 2-7:   3\n",
      "Dups for 5-7:   1\n",
      "Clamping dataset to 160 songs per class. Removing 279 songs.\n",
      "Preprocessing complete\n"
     ]
    },
    {
     "name": "stderr",
     "output_type": "stream",
     "text": [
      "Creating dataset:  72%|███████▏  | 926/1280 [01:22<00:31, 11.17it/s]\n"
     ]
    },
    {
     "name": "stdout",
     "output_type": "stream",
     "text": [
      "Dataset creation finished in: 83.3573 seconds\n"
     ]
    },
    {
     "ename": "MemoryError",
     "evalue": "Aborting. Less than 1GB available memory left on device. ",
     "output_type": "error",
     "traceback": [
      "\u001B[0;31m---------------------------------------------------------------------------\u001B[0m",
      "\u001B[0;31mMemoryError\u001B[0m                               Traceback (most recent call last)",
      "Cell \u001B[0;32mIn[3], line 1\u001B[0m\n\u001B[0;32m----> 1\u001B[0m dataset \u001B[38;5;241m=\u001B[39m \u001B[43mMusicGenreDataset\u001B[49m\u001B[43m(\u001B[49m\n\u001B[1;32m      2\u001B[0m \u001B[43m        \u001B[49m\u001B[43mdata_dir\u001B[49m\u001B[38;5;241;43m=\u001B[39;49m\u001B[43mPath\u001B[49m\u001B[43m(\u001B[49m\u001B[38;5;124;43m\"\u001B[39;49m\u001B[38;5;124;43m/home/georg/Music/ADL/\u001B[39;49m\u001B[38;5;124;43m\"\u001B[39;49m\u001B[43m)\u001B[49m\u001B[43m,\u001B[49m\n\u001B[1;32m      3\u001B[0m \u001B[43m        \u001B[49m\u001B[43mpreprocess\u001B[49m\u001B[38;5;241;43m=\u001B[39;49m\u001B[43mcreate_spectrogram\u001B[49m\u001B[43m(\u001B[49m\u001B[43mn_mels\u001B[49m\u001B[38;5;241;43m=\u001B[39;49m\u001B[38;5;241;43m128\u001B[39;49m\u001B[43m,\u001B[49m\u001B[43m \u001B[49m\u001B[43mwin_length\u001B[49m\u001B[38;5;241;43m=\u001B[39;49m\u001B[38;5;241;43m1024\u001B[39;49m\u001B[43m)\u001B[49m\u001B[43m,\u001B[49m\n\u001B[1;32m      4\u001B[0m \u001B[43m        \u001B[49m\u001B[43mfile_transform\u001B[49m\u001B[38;5;241;43m=\u001B[39;49m\u001B[43mmp3_to_wav_location\u001B[49m\u001B[43m,\u001B[49m\n\u001B[1;32m      5\u001B[0m \u001B[43m        \u001B[49m\u001B[43mplaylist_to_genre\u001B[49m\u001B[38;5;241;43m=\u001B[39;49m\u001B[43msample_playlist_to_genre\u001B[49m\u001B[43m,\u001B[49m\n\u001B[1;32m      6\u001B[0m \u001B[43m        \u001B[49m\u001B[43mtransform\u001B[49m\u001B[38;5;241;43m=\u001B[39;49m\u001B[43mcreate_crop\u001B[49m\u001B[43m(\u001B[49m\u001B[43m(\u001B[49m\u001B[38;5;241;43m128\u001B[39;49m\u001B[43m,\u001B[49m\u001B[43m \u001B[49m\u001B[38;5;241;43m128\u001B[39;49m\u001B[43m)\u001B[49m\u001B[43m)\u001B[49m\u001B[43m,\u001B[49m\n\u001B[1;32m      7\u001B[0m \u001B[43m        \u001B[49m\u001B[43mdry_run\u001B[49m\u001B[43m \u001B[49m\u001B[38;5;241;43m=\u001B[39;49m\u001B[43m \u001B[49m\u001B[43mdry_run\u001B[49m\u001B[43m,\u001B[49m\n\u001B[1;32m      8\u001B[0m \u001B[43m        \u001B[49m\u001B[38;5;66;43;03m#max_frames=16000*60*1\u001B[39;49;00m\n\u001B[1;32m      9\u001B[0m \u001B[43m)\u001B[49m\n\u001B[1;32m     11\u001B[0m analysis\u001B[38;5;241m.\u001B[39msummarize_dataset(dataset)\n",
      "File \u001B[0;32m~/git/music-genre-classification/mgclass/dataset.py:63\u001B[0m, in \u001B[0;36mMusicGenreDataset.__init__\u001B[0;34m(self, data_dir, preprocess, transform, target_transform, file_transform, num_classes, dry_run, playlist_to_genre, max_frames, even_classes)\u001B[0m\n\u001B[1;32m     61\u001B[0m     \u001B[38;5;28mself\u001B[39m\u001B[38;5;241m.\u001B[39mgenres \u001B[38;5;241m=\u001B[39m \u001B[38;5;28msorted\u001B[39m(\u001B[38;5;28mset\u001B[39m(playlist_to_genre\u001B[38;5;241m.\u001B[39mvalues()))\n\u001B[1;32m     62\u001B[0m     \u001B[38;5;28mself\u001B[39m\u001B[38;5;241m.\u001B[39mnum_classes \u001B[38;5;241m=\u001B[39m \u001B[38;5;28mlen\u001B[39m(\u001B[38;5;28mself\u001B[39m\u001B[38;5;241m.\u001B[39mgenres)\n\u001B[0;32m---> 63\u001B[0m     \u001B[38;5;28mself\u001B[39m\u001B[38;5;241m.\u001B[39mdata, \u001B[38;5;28mself\u001B[39m\u001B[38;5;241m.\u001B[39mlabels \u001B[38;5;241m=\u001B[39m \u001B[38;5;28;43mself\u001B[39;49m\u001B[38;5;241;43m.\u001B[39;49m\u001B[43mcreate_dataset_from_playlist_genre\u001B[49m\u001B[43m(\u001B[49m\u001B[43mplaylist_to_genre\u001B[49m\u001B[43m)\u001B[49m\n\u001B[1;32m     65\u001B[0m \u001B[38;5;28;01melse\u001B[39;00m:\n\u001B[1;32m     66\u001B[0m     \u001B[38;5;28mprint\u001B[39m(\u001B[38;5;124mf\u001B[39m\u001B[38;5;124m\"\u001B[39m\u001B[38;5;124mUsing most \u001B[39m\u001B[38;5;132;01m{\u001B[39;00mnum_classes\u001B[38;5;132;01m}\u001B[39;00m\u001B[38;5;124m occurring genres from spotify api\u001B[39m\u001B[38;5;124m\"\u001B[39m)\n",
      "File \u001B[0;32m~/git/music-genre-classification/mgclass/dataset.py:143\u001B[0m, in \u001B[0;36mMusicGenreDataset.create_dataset_from_playlist_genre\u001B[0;34m(self, playlist_to_genre)\u001B[0m\n\u001B[1;32m    139\u001B[0m all_files, labels \u001B[38;5;241m=\u001B[39m \u001B[38;5;28mself\u001B[39m\u001B[38;5;241m.\u001B[39mflatten_file_array(files_per_class)\n\u001B[1;32m    141\u001B[0m \u001B[38;5;28mprint\u001B[39m(\u001B[38;5;124mf\u001B[39m\u001B[38;5;124m\"\u001B[39m\u001B[38;5;124mPreprocessing complete\u001B[39m\u001B[38;5;124m\"\u001B[39m)\n\u001B[0;32m--> 143\u001B[0m data \u001B[38;5;241m=\u001B[39m \u001B[38;5;28;43mself\u001B[39;49m\u001B[38;5;241;43m.\u001B[39;49m\u001B[43mfiles_to_data\u001B[49m\u001B[43m(\u001B[49m\u001B[43mall_files\u001B[49m\u001B[43m)\u001B[49m\n\u001B[1;32m    145\u001B[0m \u001B[38;5;28;01mreturn\u001B[39;00m data, labels\n",
      "File \u001B[0;32m~/git/music-genre-classification/mgclass/dataset.py:194\u001B[0m, in \u001B[0;36mMusicGenreDataset.files_to_data\u001B[0;34m(self, files)\u001B[0m\n\u001B[1;32m    192\u001B[0m \u001B[38;5;28;01mfor\u001B[39;00m i, file \u001B[38;5;129;01min\u001B[39;00m \u001B[38;5;28menumerate\u001B[39m(tqdm(files, desc\u001B[38;5;241m=\u001B[39m\u001B[38;5;124m\"\u001B[39m\u001B[38;5;124mCreating dataset\u001B[39m\u001B[38;5;124m\"\u001B[39m)):\n\u001B[1;32m    193\u001B[0m     data[i] \u001B[38;5;241m=\u001B[39m file_to_data(file)\n\u001B[0;32m--> 194\u001B[0m     \u001B[38;5;28;43mself\u001B[39;49m\u001B[38;5;241;43m.\u001B[39;49m\u001B[43mensure_enough_memory\u001B[49m\u001B[43m(\u001B[49m\u001B[43m)\u001B[49m\n\u001B[1;32m    196\u001B[0m \u001B[38;5;66;03m# normalize the data\u001B[39;00m\n\u001B[1;32m    197\u001B[0m stats \u001B[38;5;241m=\u001B[39m StatsRecorder()\n",
      "File \u001B[0;32m~/git/music-genre-classification/mgclass/dataset.py:271\u001B[0m, in \u001B[0;36mMusicGenreDataset.ensure_enough_memory\u001B[0;34m()\u001B[0m\n\u001B[1;32m    268\u001B[0m free_memory \u001B[38;5;241m=\u001B[39m \u001B[38;5;28mint\u001B[39m(os\u001B[38;5;241m.\u001B[39mpopen(\u001B[38;5;124m\"\u001B[39m\u001B[38;5;124mfree -m\u001B[39m\u001B[38;5;124m\"\u001B[39m)\u001B[38;5;241m.\u001B[39mreadlines()[\u001B[38;5;241m1\u001B[39m]\u001B[38;5;241m.\u001B[39msplit()[\u001B[38;5;241m-\u001B[39m\u001B[38;5;241m1\u001B[39m])\n\u001B[1;32m    270\u001B[0m \u001B[38;5;28;01mif\u001B[39;00m free_memory \u001B[38;5;241m<\u001B[39m \u001B[38;5;241m1000\u001B[39m:\n\u001B[0;32m--> 271\u001B[0m     \u001B[38;5;28;01mraise\u001B[39;00m \u001B[38;5;167;01mMemoryError\u001B[39;00m(\n\u001B[1;32m    272\u001B[0m         \u001B[38;5;124m\"\u001B[39m\u001B[38;5;124mAborting. Less than 1GB available memory left on device. \u001B[39m\u001B[38;5;124m\"\u001B[39m\n\u001B[1;32m    273\u001B[0m     )\n",
      "\u001B[0;31mMemoryError\u001B[0m: Aborting. Less than 1GB available memory left on device. "
     ]
    }
   ],
   "source": [
    "dataset = MusicGenreDataset(\n",
    "        data_dir=Path(\"/home/georg/Music/ADL/\"),\n",
    "        preprocess=create_spectrogram(n_mels=128, win_length=1024),\n",
    "        file_transform=mp3_to_wav_location,\n",
    "        playlist_to_genre=sample_playlist_to_genre,\n",
    "        transform=create_crop((128, 128)),\n",
    "        dry_run = dry_run,\n",
    "        #max_frames=16000*60*1\n",
    ")\n",
    "\n",
    "analysis.summarize_dataset(dataset)"
   ]
  },
  {
   "cell_type": "code",
   "execution_count": null,
   "metadata": {
    "pycharm": {
     "name": "#%%\n"
    }
   },
   "outputs": [],
   "source": [
    "model = networks.MyNet(dataset.num_classes)\n",
    "run = TrainingRun(dataset, model, batch_size=128, epochs=epochs, dry_run=dry_run, repeat_count=repeat_count)\n",
    "run.start()\n",
    "run.test()\n",
    "run.plot()"
   ]
  },
  {
   "cell_type": "code",
   "execution_count": null,
   "outputs": [],
   "source": [
    "\n"
   ],
   "metadata": {
    "collapsed": false,
    "pycharm": {
     "name": "#%%\n"
    }
   }
  },
  {
   "cell_type": "code",
   "execution_count": null,
   "outputs": [],
   "source": [],
   "metadata": {
    "collapsed": false,
    "pycharm": {
     "name": "#%%\n"
    }
   }
  }
 ],
 "metadata": {
  "kernelspec": {
   "display_name": "Python 3 (ipykernel)",
   "language": "python",
   "name": "python3"
  },
  "language_info": {
   "codemirror_mode": {
    "name": "ipython",
    "version": 3
   },
   "file_extension": ".py",
   "mimetype": "text/x-python",
   "name": "python",
   "nbconvert_exporter": "python",
   "pygments_lexer": "ipython3",
   "version": "3.10.8"
  }
 },
 "nbformat": 4,
 "nbformat_minor": 1
}